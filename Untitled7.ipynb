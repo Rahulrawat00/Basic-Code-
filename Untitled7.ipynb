{
  "nbformat": 4,
  "nbformat_minor": 0,
  "metadata": {
    "colab": {
      "provenance": [],
      "authorship_tag": "ABX9TyMIoDQ7tJmcSBRQLDYRLdl+",
      "include_colab_link": true
    },
    "kernelspec": {
      "name": "python3",
      "display_name": "Python 3"
    },
    "language_info": {
      "name": "python"
    }
  },
  "cells": [
    {
      "cell_type": "markdown",
      "metadata": {
        "id": "view-in-github",
        "colab_type": "text"
      },
      "source": [
        "<a href=\"https://colab.research.google.com/github/Rahulrawat00/Basic-Code-/blob/main/Untitled7.ipynb\" target=\"_parent\"><img src=\"https://colab.research.google.com/assets/colab-badge.svg\" alt=\"Open In Colab\"/></a>"
      ]
    },
    {
      "cell_type": "code",
      "execution_count": null,
      "metadata": {
        "colab": {
          "base_uri": "https://localhost:8080/",
          "height": 106
        },
        "id": "ZClzAODmt-JT",
        "outputId": "bd23cfa9-38c9-40eb-8aa2-2df5fd2f30fb"
      },
      "outputs": [
        {
          "output_type": "error",
          "ename": "SyntaxError",
          "evalue": "invalid syntax (ipython-input-2089713303.py, line 10)",
          "traceback": [
            "\u001b[0;36m  File \u001b[0;32m\"/tmp/ipython-input-2089713303.py\"\u001b[0;36m, line \u001b[0;32m10\u001b[0m\n\u001b[0;31m    if month_name =='january','march','may','july','august','october','december':\u001b[0m\n\u001b[0m                             ^\u001b[0m\n\u001b[0;31mSyntaxError\u001b[0m\u001b[0;31m:\u001b[0m invalid syntax\n"
          ]
        }
      ],
      "source": [
        "principle_amt = int(input(\"enter the principle:\"))\n",
        "rate_of_intrest = int(input(\"enter the rate of intrest(monthly) in % :\"))\n",
        "month_name = input(\"enter the name of month:\")\n",
        "# month_list1 = ['january','march','may','july','august','october','december']\n",
        "month_list2 =['april','june','september','november']\n",
        "time = int(input(\"enter the time in monnths:\"))\n",
        "days= int(input(\"enter the number of days:\"))\n",
        "\n",
        "\n",
        "if month_name in in:\n",
        "  if(days ==0):\n",
        "    SI = principle_amt * rate_of_intrest *time /100\n",
        "    print(f\"simple intrest:{SI}\")\n",
        "  else:\n",
        "    day_to_month = days/31\n",
        "    time += day_to_month\n",
        "    SI = principle_amt * rate_of_intrest * time/100\n",
        "    print(f\"simple intrest :{SI}\")\n",
        "elif month_name in month_list2:\n",
        "\n",
        "   if(days ==0):\n",
        "    SI = principle_amt * rate_of_intrest *time /100\n",
        "    print(f\"simple intrest:{SI}\")\n",
        "   else:\n",
        "    day_to_month = days/30\n",
        "    time += day_to_month\n",
        "    SI = principle_amt * rate_of_intrest * time/100\n",
        "    print(f\"simple intrest :{SI}\")\n",
        "\n",
        "elif month_name ==\"feburary\":\n",
        "   if(days ==0):\n",
        "    SI = principle_amt * rate_of_intrest *time /100\n",
        "    print(f\"simple intrest:{SI}\")\n",
        "   else:\n",
        "    day_to_month = days/29\n",
        "    time += day_to_month\n",
        "    SI = principle_amt * rate_of_intrest * time/100\n",
        "    print(f\"simple intrest :{SI}\")\n",
        "\n",
        "else :\n",
        "  print(\"enter valid amount or retry :(\")\n",
        "\n",
        "\n",
        "\n"
      ]
    }
  ]
}