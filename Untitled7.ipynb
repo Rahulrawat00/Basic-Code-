{
  "nbformat": 4,
  "nbformat_minor": 0,
  "metadata": {
    "colab": {
      "provenance": [],
      "authorship_tag": "ABX9TyNOzdBGg4+61XhfSu9/T27f",
      "include_colab_link": true
    },
    "kernelspec": {
      "name": "python3",
      "display_name": "Python 3"
    },
    "language_info": {
      "name": "python"
    }
  },
  "cells": [
    {
      "cell_type": "markdown",
      "metadata": {
        "id": "view-in-github",
        "colab_type": "text"
      },
      "source": [
        "<a href=\"https://colab.research.google.com/github/Rahulrawat00/Basic-Code-/blob/main/Untitled7.ipynb\" target=\"_parent\"><img src=\"https://colab.research.google.com/assets/colab-badge.svg\" alt=\"Open In Colab\"/></a>"
      ]
    },
    {
      "cell_type": "code",
      "execution_count": null,
      "metadata": {
        "id": "ZClzAODmt-JT"
      },
      "outputs": [],
      "source": [
        "principle_amt = int(input(\"enter the principle:\"))\n",
        "rate_of_intrest = int(input(\"enter the rate of intrest(monthly) in % :\"))\n",
        "month_name = input(\"enter the name of month:\")\n",
        "month_list1 = ['january','march','may','july','august','october','december']\n",
        "month_list2 =['april','june','september','november']\n",
        "time = int(input(\"enter the time in monnths:\"))\n",
        "days= int(input(\"enter the number of days:\"))\n",
        "year = int(input(\"enter the year:\"))\n",
        "\n",
        "\n",
        "\n",
        "if month_name in month_list1 :\n",
        "  if(days ==0):\n",
        "    SI = principle_amt * rate_of_intrest *time /100\n",
        "    print(f\"simple intrest:{SI}\")\n",
        "  else:\n",
        "    day_to_month = days/31\n",
        "    time += day_to_month\n",
        "    SI = principle_amt * rate_of_intrest * time/100\n",
        "    print(f\"simple intrest :{SI}\")\n",
        "elif month_name in month_list2:\n",
        "\n",
        "   if(days ==0):\n",
        "    SI = principle_amt * rate_of_intrest *time /100\n",
        "    print(f\"simple intrest:{SI}\")\n",
        "   else:\n",
        "    day_to_month = days/30\n",
        "    time += day_to_month\n",
        "    SI = principle_amt * rate_of_intrest * time/100\n",
        "    print(f\"simple intrest :{SI}\")\n",
        "\n",
        "elif month_name ==\"february\":\n",
        "\n",
        "  if year%4==0 or year%100==0 or year%400==0:\n",
        "    if days == 0:\n",
        "      SI = principle_amt * rate_of_intrest *time /100\n",
        "      print(f\"simple intrest:{SI}\")\n",
        "    else:\n",
        "      day_to_month =time+ days/29\n",
        "\n",
        "      SI = principle_amt * day_to_month * rate_of_intrest/100\n",
        "      print(f\"Simple Intrest:{SI}\")\n",
        "  else:\n",
        "    day_to_month = days/28\n",
        "    time+= day_to_month\n",
        "    SI = principle_amt * day_to_month * rate_of_intrest/100\n",
        "    print(f\"Simple Intrest:{SI}\")\n",
        "\n",
        "\n",
        "else :\n",
        "  print(\"enter valid amount or retry :(\")\n",
        "\n",
        "\n",
        "\n"
      ]
    }
  ]
}