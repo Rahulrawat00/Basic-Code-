{
  "nbformat": 4,
  "nbformat_minor": 0,
  "metadata": {
    "colab": {
      "provenance": [],
      "authorship_tag": "ABX9TyO7HlHJgCUksqfTZAdaETvd",
      "include_colab_link": true
    },
    "kernelspec": {
      "name": "python3",
      "display_name": "Python 3"
    },
    "language_info": {
      "name": "python"
    }
  },
  "cells": [
    {
      "cell_type": "markdown",
      "metadata": {
        "id": "view-in-github",
        "colab_type": "text"
      },
      "source": [
        "<a href=\"https://colab.research.google.com/github/Rahulrawat00/Basic-Code-/blob/main/Untitled7.ipynb\" target=\"_parent\"><img src=\"https://colab.research.google.com/assets/colab-badge.svg\" alt=\"Open In Colab\"/></a>"
      ]
    },
    {
      "cell_type": "code",
      "execution_count": 1,
      "metadata": {
        "colab": {
          "base_uri": "https://localhost:8080/"
        },
        "id": "ZClzAODmt-JT",
        "outputId": "6bacf847-ee9c-469e-9b65-969292164bdf"
      },
      "outputs": [
        {
          "output_type": "stream",
          "name": "stdout",
          "text": [
            "enter the principle:2000\n",
            "enter the rate of intrest(monthly) in % :2\n",
            "enter the name of month:feb\n",
            "enter the time in monnths:2\n",
            "enter the number of days:11\n",
            "enter the year:2025\n",
            "Simple Intrest: 95.71428571428571\n"
          ]
        }
      ],
      "source": [
        "principle_amt = int(input(\"enter the principle:\"))\n",
        "rate_of_intrest = int(input(\"enter the rate of intrest(monthly) in % :\"))\n",
        "month_name = input(\"enter the name of month:\")\n",
        "month_list1 = ['jan','mar','may','july','aug','oct','dec']\n",
        "month_list2 =['apr','jun','sept','nov']\n",
        "time = int(input(\"enter the time in monnths:\"))\n",
        "days= int(input(\"enter the number of days:\"))\n",
        "year = int(input(\"enter the year:\"))\n",
        "\n",
        "\n",
        "\n",
        "if month_name in month_list1 :\n",
        "\n",
        "  day_to_month =time + days/31\n",
        "\n",
        "\n",
        "elif month_name in month_list2:\n",
        "\n",
        "\n",
        "  day_to_month = time + days/30\n",
        "\n",
        "elif month_name ==\"feb\":\n",
        "\n",
        "  if year%4==0 or year%100==0 or year%400==0:\n",
        "\n",
        "      day_to_month =time+ days/29\n",
        "  else:\n",
        "    day_to_month = time+days/28\n",
        "\n",
        "else :\n",
        "  print(\"enter valid amount or retry :(\")\n",
        "\n",
        "SI = principle_amt *rate_of_intrest*day_to_month/ 100\n",
        "amount = SI + principle_amt\n",
        "print(f\"Simple Intrest: {SI}\")\n",
        "print(f\" Amounnt {SI} + {principle_amt} = {amount}\")\n",
        "\n",
        "\n",
        "\n"
      ]
    },
    {
      "cell_type": "code",
      "source": [],
      "metadata": {
        "id": "uLz19f7F7w6u"
      },
      "execution_count": null,
      "outputs": []
    },
    {
      "cell_type": "code",
      "source": [],
      "metadata": {
        "id": "IHDbfn2I4CpV"
      },
      "execution_count": null,
      "outputs": []
    }
  ]
}