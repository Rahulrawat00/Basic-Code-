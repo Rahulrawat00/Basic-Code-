{
  "nbformat": 4,
  "nbformat_minor": 0,
  "metadata": {
    "colab": {
      "provenance": [],
      "authorship_tag": "ABX9TyNH+wrCCt3t3VECHo7xSZql",
      "include_colab_link": true
    },
    "kernelspec": {
      "name": "python3",
      "display_name": "Python 3"
    },
    "language_info": {
      "name": "python"
    }
  },
  "cells": [
    {
      "cell_type": "markdown",
      "metadata": {
        "id": "view-in-github",
        "colab_type": "text"
      },
      "source": [
        "<a href=\"https://colab.research.google.com/github/Rahulrawat00/Basic-Code-/blob/main/Untitled6.ipynb\" target=\"_parent\"><img src=\"https://colab.research.google.com/assets/colab-badge.svg\" alt=\"Open In Colab\"/></a>"
      ]
    },
    {
      "cell_type": "code",
      "source": [],
      "metadata": {
        "id": "6-n1FPfbp2G7"
      },
      "execution_count": null,
      "outputs": []
    },
    {
      "cell_type": "code",
      "execution_count": 1,
      "metadata": {
        "colab": {
          "base_uri": "https://localhost:8080/"
        },
        "id": "SICFV02JpnuH",
        "outputId": "f0887f40-c7d8-4acc-b409-75cada7d398e"
      },
      "outputs": [
        {
          "output_type": "stream",
          "name": "stdout",
          "text": [
            "enter the amount:4000\n",
            "enter the rate of intrest in %:2\n",
            "enter no. of months :2\n",
            "enter the days:0\n",
            "simple intrest: 160.0\n"
          ]
        }
      ],
      "source": [
        "\n",
        "\n",
        "def SimpleIntrest():\n",
        "  amount = int(input(\"enter the amount:\"))\n",
        "  rate_of_intrest = int(input(\"enter the rate of intrest in %:\"))\n",
        "  time_given = int(input(\"enter no. of months :\"))\n",
        "  days = int(input('enter the days:'))/30\n",
        "  total_time = time_given + days\n",
        "  if(days==\"0\"):\n",
        "    SI = amount * rate_of_intrest * time_given / 100\n",
        "\n",
        "    print(f\"simple intrest : {SI}\")\n",
        "\n",
        "  else:\n",
        "    SI  = amount * rate_of_intrest * total_time / 100\n",
        "\n",
        "    print(f\"simple intrest: {SI}\")\n",
        "\n",
        "\n",
        "SimpleIntrest()\n",
        "\n",
        "\n",
        "\n"
      ]
    },
    {
      "cell_type": "code",
      "source": [],
      "metadata": {
        "id": "TKkdmLpXpoCx"
      },
      "execution_count": null,
      "outputs": []
    }
  ]
}